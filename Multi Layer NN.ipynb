{
  "nbformat": 4,
  "nbformat_minor": 0,
  "metadata": {
    "colab": {
      "name": "Untitled0.ipynb",
      "version": "0.3.2",
      "provenance": [],
      "include_colab_link": true
    },
    "kernelspec": {
      "name": "python3",
      "display_name": "Python 3"
    }
  },
  "cells": [
    {
      "cell_type": "markdown",
      "metadata": {
        "id": "view-in-github",
        "colab_type": "text"
      },
      "source": [
        "<a href=\"https://colab.research.google.com/github/shayari21/Udacity--Secure-AI/blob/master/Multi%20Layer%20NN.ipynb\" target=\"_parent\"><img src=\"https://colab.research.google.com/assets/colab-badge.svg\" alt=\"Open In Colab\"/></a>"
      ]
    },
    {
      "cell_type": "markdown",
      "metadata": {
        "id": "OyJ9kP_jk0lO",
        "colab_type": "text"
      },
      "source": [
        "This code basically helps us construct a two layer Neural Network using Pytorch. We use sigmoid activation function to generate the output.\n"
      ]
    },
    {
      "cell_type": "code",
      "metadata": {
        "id": "SLK9U8oygd_A",
        "colab_type": "code",
        "colab": {
          "base_uri": "https://localhost:8080/",
          "height": 35
        },
        "outputId": "d24ccc80-01f0-40f4-c930-afe780b9593f"
      },
      "source": [
        "\n",
        "\n",
        "import torch\n",
        "\n",
        "def activation(x):\n",
        "  return 1/(1+torch.exp(-x))\n",
        "\n",
        "torch.manual_seed(7)\n",
        "\n",
        "features=torch.randn((1,3))\n",
        "n_input=features.shape[1]\n",
        "n_hidden=2\n",
        "n_output=1\n",
        "\n",
        "W1=torch.randn(n_input,n_hidden)\n",
        "W2=torch.randn(n_hidden,n_output)\n",
        "\n",
        "B1=torch.randn((1,n_hidden))\n",
        "B2=torch.randn((1,n_output))\n",
        "\n",
        "h=activation(torch.mm(features,W1)+B1)\n",
        "output= activation(torch.mm(h,W2)+B2)\n",
        "print(output)"
      ],
      "execution_count": 1,
      "outputs": [
        {
          "output_type": "stream",
          "text": [
            "tensor([[0.3171]])\n"
          ],
          "name": "stdout"
        }
      ]
    },
    {
